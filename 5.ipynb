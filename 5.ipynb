{
 "cells": [
  {
   "cell_type": "code",
   "execution_count": 13,
   "metadata": {},
   "outputs": [],
   "source": [
    "import numpy as np\n",
    "import pandas as pd"
   ]
  },
  {
   "cell_type": "code",
   "execution_count": 14,
   "metadata": {},
   "outputs": [],
   "source": [
    "data = pd.read_json('./driver_income.json')"
   ]
  },
  {
   "cell_type": "code",
   "execution_count": 15,
   "metadata": {},
   "outputs": [],
   "source": [
    "X = data[['avg_distance_normalized', 'avg_usage_duration']].values\n",
    "y = data['income'].values"
   ]
  },
  {
   "cell_type": "code",
   "execution_count": 16,
   "metadata": {},
   "outputs": [],
   "source": [
    "X = (X - X.mean(axis=0)) / X.std(axis=0)\n",
    "X = np.c_[np.ones(X.shape[0]), X]\n",
    "\n",
    "weights = np.zeros(X.shape[1])\n",
    "learning_rate = 0.01\n",
    "iterations = 1000\n",
    "m = len(y)"
   ]
  },
  {
   "cell_type": "code",
   "execution_count": 17,
   "metadata": {},
   "outputs": [
    {
     "name": "stdout",
     "output_type": "stream",
     "text": [
      "Koefisien: [79701.54698795 38409.27772929  7698.83889306]\n"
     ]
    }
   ],
   "source": [
    "for _ in range(iterations):\n",
    "    predictions = X.dot(weights)\n",
    "    errors = predictions - y\n",
    "    gradient = (1/m) * X.T.dot(errors)\n",
    "    weights -= learning_rate * gradient\n",
    "\n",
    "print(\"Koefisien:\", weights)"
   ]
  }
 ],
 "metadata": {
  "kernelspec": {
   "display_name": "base",
   "language": "python",
   "name": "python3"
  },
  "language_info": {
   "codemirror_mode": {
    "name": "ipython",
    "version": 3
   },
   "file_extension": ".py",
   "mimetype": "text/x-python",
   "name": "python",
   "nbconvert_exporter": "python",
   "pygments_lexer": "ipython3",
   "version": "3.12.4"
  }
 },
 "nbformat": 4,
 "nbformat_minor": 2
}
